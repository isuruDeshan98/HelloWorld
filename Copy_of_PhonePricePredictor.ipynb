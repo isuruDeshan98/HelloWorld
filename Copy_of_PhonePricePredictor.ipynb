{
  "nbformat": 4,
  "nbformat_minor": 0,
  "metadata": {
    "colab": {
      "name": "Copy of PhonePricePredictor.ipynb",
      "provenance": [],
      "collapsed_sections": [],
      "authorship_tag": "ABX9TyNhHKSchh3WLibspVL1IpOW",
      "include_colab_link": true
    },
    "kernelspec": {
      "display_name": "Python 3",
      "name": "python3"
    },
    "language_info": {
      "name": "python"
    }
  },
  "cells": [
    {
      "cell_type": "markdown",
      "metadata": {
        "id": "view-in-github",
        "colab_type": "text"
      },
      "source": [
        "<a href=\"https://colab.research.google.com/github/isuruDeshan98/HelloWorld/blob/master/Copy_of_PhonePricePredictor.ipynb\" target=\"_parent\"><img src=\"https://colab.research.google.com/assets/colab-badge.svg\" alt=\"Open In Colab\"/></a>"
      ]
    },
    {
      "cell_type": "code",
      "metadata": {
        "id": "1ZfQJliCmchf"
      },
      "source": [
        "# make sure python ≥3.5 is available\n",
        "import sys\n",
        "assert sys.version_info >= (3, 5)\n",
        " \n",
        "# imports basic libraries\n",
        "import pandas as pd\n",
        "import numpy as np\n",
        "import os\n",
        " \n",
        "# import data graphicaly representable libraries\n",
        "%matplotlib inline\n",
        "import matplotlib as mpl\n",
        "import matplotlib.pyplot as plt\n",
        "import seaborn as sns\n",
        " \n",
        "# import Scikit-Learn library addons\n",
        "import sklearn\n",
        "from sklearn import linear_model\n",
        "from sklearn import metrics\n",
        " \n",
        "import warnings"
      ],
      "execution_count": null,
      "outputs": []
    },
    {
      "cell_type": "code",
      "metadata": {
        "colab": {
          "base_uri": "https://localhost:8080/",
          "height": 411
        },
        "id": "5dtfmZ3jnmpN",
        "outputId": "210f82da-3188-4cf3-aee3-8b7fe3d7cad3"
      },
      "source": [
        "#import data sheet and read it\n",
        "df = pd.read_csv(r'/content/mobilePhonePrice.csv')\n",
        "df.head(5)"
      ],
      "execution_count": null,
      "outputs": [
        {
          "output_type": "execute_result",
          "data": {
            "text/html": [
              "<div>\n",
              "<style scoped>\n",
              "    .dataframe tbody tr th:only-of-type {\n",
              "        vertical-align: middle;\n",
              "    }\n",
              "\n",
              "    .dataframe tbody tr th {\n",
              "        vertical-align: top;\n",
              "    }\n",
              "\n",
              "    .dataframe thead th {\n",
              "        text-align: right;\n",
              "    }\n",
              "</style>\n",
              "<table border=\"1\" class=\"dataframe\">\n",
              "  <thead>\n",
              "    <tr style=\"text-align: right;\">\n",
              "      <th></th>\n",
              "      <th>name</th>\n",
              "      <th>ram(GB)</th>\n",
              "      <th>frontCamera(MP)</th>\n",
              "      <th>backCamera(MP)</th>\n",
              "      <th>noOfCam(Front)</th>\n",
              "      <th>noOfCam(Back)</th>\n",
              "      <th>batteryCapacity(mAh)</th>\n",
              "      <th>storage(GB)</th>\n",
              "      <th>displaySize</th>\n",
              "      <th>year</th>\n",
              "      <th>osVersion</th>\n",
              "      <th>price(Rs.)</th>\n",
              "      <th>model</th>\n",
              "    </tr>\n",
              "  </thead>\n",
              "  <tbody>\n",
              "    <tr>\n",
              "      <th>0</th>\n",
              "      <td>Samsung Galaxy S7 Edge</td>\n",
              "      <td>4</td>\n",
              "      <td>5.0</td>\n",
              "      <td>12.0</td>\n",
              "      <td>1</td>\n",
              "      <td>1</td>\n",
              "      <td>3600</td>\n",
              "      <td>32</td>\n",
              "      <td>5.5</td>\n",
              "      <td>2016</td>\n",
              "      <td>6.0</td>\n",
              "      <td>39900</td>\n",
              "      <td>samsung</td>\n",
              "    </tr>\n",
              "    <tr>\n",
              "      <th>1</th>\n",
              "      <td>Samsung Galaxy S7</td>\n",
              "      <td>4</td>\n",
              "      <td>5.0</td>\n",
              "      <td>12.0</td>\n",
              "      <td>1</td>\n",
              "      <td>1</td>\n",
              "      <td>3000</td>\n",
              "      <td>32</td>\n",
              "      <td>5.1</td>\n",
              "      <td>2016</td>\n",
              "      <td>6.0</td>\n",
              "      <td>36900</td>\n",
              "      <td>samsung</td>\n",
              "    </tr>\n",
              "    <tr>\n",
              "      <th>2</th>\n",
              "      <td>Samsung Galaxy S8+ (64GB)</td>\n",
              "      <td>4</td>\n",
              "      <td>8.0</td>\n",
              "      <td>12.0</td>\n",
              "      <td>1</td>\n",
              "      <td>2</td>\n",
              "      <td>3500</td>\n",
              "      <td>64</td>\n",
              "      <td>6.2</td>\n",
              "      <td>2017</td>\n",
              "      <td>7.0</td>\n",
              "      <td>74900</td>\n",
              "      <td>samsung</td>\n",
              "    </tr>\n",
              "    <tr>\n",
              "      <th>3</th>\n",
              "      <td>Samsung Galaxy S8</td>\n",
              "      <td>4</td>\n",
              "      <td>5.0</td>\n",
              "      <td>12.0</td>\n",
              "      <td>1</td>\n",
              "      <td>2</td>\n",
              "      <td>3000</td>\n",
              "      <td>32</td>\n",
              "      <td>5.8</td>\n",
              "      <td>2017</td>\n",
              "      <td>7.0</td>\n",
              "      <td>66500</td>\n",
              "      <td>samsung</td>\n",
              "    </tr>\n",
              "    <tr>\n",
              "      <th>4</th>\n",
              "      <td>Samsung Galaxy S8 Active</td>\n",
              "      <td>4</td>\n",
              "      <td>5.0</td>\n",
              "      <td>12.0</td>\n",
              "      <td>1</td>\n",
              "      <td>2</td>\n",
              "      <td>4000</td>\n",
              "      <td>32</td>\n",
              "      <td>5.8</td>\n",
              "      <td>2017</td>\n",
              "      <td>7.0</td>\n",
              "      <td>148570</td>\n",
              "      <td>samsung</td>\n",
              "    </tr>\n",
              "  </tbody>\n",
              "</table>\n",
              "</div>"
            ],
            "text/plain": [
              "                        name  ram(GB)  ...  price(Rs.)    model\n",
              "0     Samsung Galaxy S7 Edge        4  ...       39900  samsung\n",
              "1         Samsung Galaxy S7         4  ...       36900  samsung\n",
              "2  Samsung Galaxy S8+ (64GB)        4  ...       74900  samsung\n",
              "3          Samsung Galaxy S8        4  ...       66500  samsung\n",
              "4   Samsung Galaxy S8 Active        4  ...      148570  samsung\n",
              "\n",
              "[5 rows x 13 columns]"
            ]
          },
          "metadata": {
            "tags": []
          },
          "execution_count": 4
        }
      ]
    },
    {
      "cell_type": "code",
      "metadata": {
        "colab": {
          "base_uri": "https://localhost:8080/",
          "height": 224
        },
        "id": "zfr_uW0FucDJ",
        "outputId": "d5185afd-cfef-402d-8cc1-250b81ead56d"
      },
      "source": [
        "#drop attribute coloum of \"name\".no need it\n",
        "df = df.drop(columns=['name'])\n",
        "df.head(5)"
      ],
      "execution_count": null,
      "outputs": [
        {
          "output_type": "execute_result",
          "data": {
            "text/html": [
              "<div>\n",
              "<style scoped>\n",
              "    .dataframe tbody tr th:only-of-type {\n",
              "        vertical-align: middle;\n",
              "    }\n",
              "\n",
              "    .dataframe tbody tr th {\n",
              "        vertical-align: top;\n",
              "    }\n",
              "\n",
              "    .dataframe thead th {\n",
              "        text-align: right;\n",
              "    }\n",
              "</style>\n",
              "<table border=\"1\" class=\"dataframe\">\n",
              "  <thead>\n",
              "    <tr style=\"text-align: right;\">\n",
              "      <th></th>\n",
              "      <th>ram(GB)</th>\n",
              "      <th>frontCamera(MP)</th>\n",
              "      <th>backCamera(MP)</th>\n",
              "      <th>noOfCam(Front)</th>\n",
              "      <th>noOfCam(Back)</th>\n",
              "      <th>batteryCapacity(mAh)</th>\n",
              "      <th>storage(GB)</th>\n",
              "      <th>displaySize</th>\n",
              "      <th>year</th>\n",
              "      <th>osVersion</th>\n",
              "      <th>price(Rs.)</th>\n",
              "      <th>model</th>\n",
              "    </tr>\n",
              "  </thead>\n",
              "  <tbody>\n",
              "    <tr>\n",
              "      <th>0</th>\n",
              "      <td>4</td>\n",
              "      <td>5.0</td>\n",
              "      <td>12.0</td>\n",
              "      <td>1</td>\n",
              "      <td>1</td>\n",
              "      <td>3600</td>\n",
              "      <td>32</td>\n",
              "      <td>5.5</td>\n",
              "      <td>2016</td>\n",
              "      <td>6.0</td>\n",
              "      <td>39900</td>\n",
              "      <td>samsung</td>\n",
              "    </tr>\n",
              "    <tr>\n",
              "      <th>1</th>\n",
              "      <td>4</td>\n",
              "      <td>5.0</td>\n",
              "      <td>12.0</td>\n",
              "      <td>1</td>\n",
              "      <td>1</td>\n",
              "      <td>3000</td>\n",
              "      <td>32</td>\n",
              "      <td>5.1</td>\n",
              "      <td>2016</td>\n",
              "      <td>6.0</td>\n",
              "      <td>36900</td>\n",
              "      <td>samsung</td>\n",
              "    </tr>\n",
              "    <tr>\n",
              "      <th>2</th>\n",
              "      <td>4</td>\n",
              "      <td>8.0</td>\n",
              "      <td>12.0</td>\n",
              "      <td>1</td>\n",
              "      <td>2</td>\n",
              "      <td>3500</td>\n",
              "      <td>64</td>\n",
              "      <td>6.2</td>\n",
              "      <td>2017</td>\n",
              "      <td>7.0</td>\n",
              "      <td>74900</td>\n",
              "      <td>samsung</td>\n",
              "    </tr>\n",
              "    <tr>\n",
              "      <th>3</th>\n",
              "      <td>4</td>\n",
              "      <td>5.0</td>\n",
              "      <td>12.0</td>\n",
              "      <td>1</td>\n",
              "      <td>2</td>\n",
              "      <td>3000</td>\n",
              "      <td>32</td>\n",
              "      <td>5.8</td>\n",
              "      <td>2017</td>\n",
              "      <td>7.0</td>\n",
              "      <td>66500</td>\n",
              "      <td>samsung</td>\n",
              "    </tr>\n",
              "    <tr>\n",
              "      <th>4</th>\n",
              "      <td>4</td>\n",
              "      <td>5.0</td>\n",
              "      <td>12.0</td>\n",
              "      <td>1</td>\n",
              "      <td>2</td>\n",
              "      <td>4000</td>\n",
              "      <td>32</td>\n",
              "      <td>5.8</td>\n",
              "      <td>2017</td>\n",
              "      <td>7.0</td>\n",
              "      <td>148570</td>\n",
              "      <td>samsung</td>\n",
              "    </tr>\n",
              "  </tbody>\n",
              "</table>\n",
              "</div>"
            ],
            "text/plain": [
              "   ram(GB)  frontCamera(MP)  backCamera(MP)  ...  osVersion  price(Rs.)    model\n",
              "0        4              5.0            12.0  ...        6.0       39900  samsung\n",
              "1        4              5.0            12.0  ...        6.0       36900  samsung\n",
              "2        4              8.0            12.0  ...        7.0       74900  samsung\n",
              "3        4              5.0            12.0  ...        7.0       66500  samsung\n",
              "4        4              5.0            12.0  ...        7.0      148570  samsung\n",
              "\n",
              "[5 rows x 12 columns]"
            ]
          },
          "metadata": {
            "tags": []
          },
          "execution_count": 5
        }
      ]
    },
    {
      "cell_type": "code",
      "metadata": {
        "colab": {
          "base_uri": "https://localhost:8080/"
        },
        "id": "A4SWciNqvQPt",
        "outputId": "df53c2b4-b0c7-47d7-c614-f5e5d7ef4d2a"
      },
      "source": [
        "#check how meny rows and coloumns\n",
        "df.info"
      ],
      "execution_count": null,
      "outputs": [
        {
          "output_type": "execute_result",
          "data": {
            "text/plain": [
              "<bound method DataFrame.info of      ram(GB)  frontCamera(MP)  backCamera(MP)  ...  osVersion  price(Rs.)    model\n",
              "0          4              5.0            12.0  ...        6.0       39900  samsung\n",
              "1          4              5.0            12.0  ...        6.0       36900  samsung\n",
              "2          4              8.0            12.0  ...        7.0       74900  samsung\n",
              "3          4              5.0            12.0  ...        7.0       66500  samsung\n",
              "4          4              5.0            12.0  ...        7.0      148570  samsung\n",
              "..       ...              ...             ...  ...        ...         ...      ...\n",
              "202        4              8.0            13.0  ...        9.0       62650     sony\n",
              "203        3              8.0            13.0  ...        8.0       39380     sony\n",
              "204        3              8.0            23.0  ...        8.0       43900     sony\n",
              "205        6             13.0            19.0  ...        8.0      148570     sony\n",
              "206        6              5.0            19.0  ...        8.0       99000     sony\n",
              "\n",
              "[207 rows x 12 columns]>"
            ]
          },
          "metadata": {
            "tags": []
          },
          "execution_count": 6
        }
      ]
    },
    {
      "cell_type": "code",
      "metadata": {
        "colab": {
          "base_uri": "https://localhost:8080/"
        },
        "id": "5uYtfF_bvfaZ",
        "outputId": "fa83c528-9bd2-4070-dbc4-f753e28eba30"
      },
      "source": [
        "#check for null values\n",
        "df.isnull().any()"
      ],
      "execution_count": null,
      "outputs": [
        {
          "output_type": "execute_result",
          "data": {
            "text/plain": [
              "ram(GB)                 False\n",
              "frontCamera(MP)         False\n",
              "backCamera(MP)          False\n",
              "noOfCam(Front)          False\n",
              "noOfCam(Back)           False\n",
              "batteryCapacity(mAh)    False\n",
              "storage(GB)             False\n",
              "displaySize             False\n",
              "year                    False\n",
              "osVersion               False\n",
              "price(Rs.)              False\n",
              "model                   False\n",
              "dtype: bool"
            ]
          },
          "metadata": {
            "tags": []
          },
          "execution_count": 7
        }
      ]
    },
    {
      "cell_type": "code",
      "metadata": {
        "colab": {
          "base_uri": "https://localhost:8080/"
        },
        "id": "w0Erglo8vxnC",
        "outputId": "58966f93-19d3-4af3-dba6-22afb670d369"
      },
      "source": [
        "#check for attribute types\n",
        "df.dtypes"
      ],
      "execution_count": null,
      "outputs": [
        {
          "output_type": "execute_result",
          "data": {
            "text/plain": [
              "ram(GB)                   int64\n",
              "frontCamera(MP)         float64\n",
              "backCamera(MP)          float64\n",
              "noOfCam(Front)            int64\n",
              "noOfCam(Back)             int64\n",
              "batteryCapacity(mAh)      int64\n",
              "storage(GB)               int64\n",
              "displaySize             float64\n",
              "year                      int64\n",
              "osVersion               float64\n",
              "price(Rs.)                int64\n",
              "model                    object\n",
              "dtype: object"
            ]
          },
          "metadata": {
            "tags": []
          },
          "execution_count": 8
        }
      ]
    },
    {
      "cell_type": "code",
      "metadata": {
        "colab": {
          "base_uri": "https://localhost:8080/"
        },
        "id": "2i0yWb8wwnCa",
        "outputId": "981d9656-18dc-403f-e0ee-e2047d6140dc"
      },
      "source": [
        "#take numerical valued coloumns for plot graphs\n",
        "numCols = df.columns[df.dtypes==float].tolist() + df.columns[df.dtypes==int].tolist()\n",
        "numCols"
      ],
      "execution_count": null,
      "outputs": [
        {
          "output_type": "execute_result",
          "data": {
            "text/plain": [
              "['frontCamera(MP)',\n",
              " 'backCamera(MP)',\n",
              " 'displaySize',\n",
              " 'osVersion',\n",
              " 'ram(GB)',\n",
              " 'noOfCam(Front)',\n",
              " 'noOfCam(Back)',\n",
              " 'batteryCapacity(mAh)',\n",
              " 'storage(GB)',\n",
              " 'year',\n",
              " 'price(Rs.)']"
            ]
          },
          "metadata": {
            "tags": []
          },
          "execution_count": 9
        }
      ]
    },
    {
      "cell_type": "code",
      "metadata": {
        "colab": {
          "base_uri": "https://localhost:8080/",
          "height": 261
        },
        "id": "yQ5tFMT8xW2Z",
        "outputId": "6ecd1b26-2c19-4475-dcdd-c28495de02c0"
      },
      "source": [
        "df[numCols].hist(bins=50,figsize=(50,50), layout=(10,3), rwidth=5)\n",
        "plt.show()"
      ],
      "execution_count": null,
      "outputs": [
        {
          "output_type": "display_data",
          "data": {
            "image/png": "[encoded data removed]",
            "text/plain": [
              "<Figure size 3600x3600 with 30 Axes>"
            ]
          },
          "metadata": {
            "tags": [],
            "needs_background": "light"
          }
        }
      ]
    },
    {
      "cell_type": "code",
      "metadata": {
        "colab": {
          "base_uri": "https://localhost:8080/",
          "height": 513
        },
        "id": "0k7hMMzHzhHC",
        "outputId": "3f0563af-94b1-4057-a1ab-a437fbe2b301"
      },
      "source": [
        "#some scatter plots of price vary with the attributes\n",
        "plt.scatter(df[\"storage(GB)\"],df[\"price(Rs.)\"])\n",
        "plt.scatter(df[\"batteryCapacity(mAh)\"],df[\"price(Rs.)\"])\n",
        "plt.show()\n",
        "plt.scatter(df[\"ram(GB)\"],df[\"price(Rs.)\"])\n",
        "plt.scatter(df[\"displaySize\"],df[\"price(Rs.)\"])\n",
        "plt.show()"
      ],
      "execution_count": null,
      "outputs": [
        {
          "output_type": "display_data",
          "data": {
            "image/png": "[encoded data removed]",
            "text/plain": [
              "<Figure size 432x288 with 1 Axes>"
            ]
          },
          "metadata": {
            "tags": [],
            "needs_background": "light"
          }
        },
        {
          "output_type": "display_data",
          "data": {
            "image/png": "[encoded data removed]",
            "text/plain": [
              "<Figure size 432x288 with 1 Axes>"
            ]
          },
          "metadata": {
            "tags": [],
            "needs_background": "light"
          }
        }
      ]
    },
    {
      "cell_type": "code",
      "metadata": {
        "colab": {
          "base_uri": "https://localhost:8080/",
          "height": 196
        },
        "id": "U63dx1Z22i6A",
        "outputId": "50c7b949-5eb5-4b60-f448-63d40f74a381"
      },
      "source": [
        "#some box plots\n",
        "df[numCols].plot(kind='box',subplots = True,figsize=(60,60),layout = (10,5),sharex = False, sharey = False)\n",
        "plt.show()"
      ],
      "execution_count": null,
      "outputs": [
        {
          "output_type": "display_data",
          "data": {
            "image/png": "[encoded data removed]",
            "text/plain": [
              "<Figure size 4320x4320 with 50 Axes>"
            ]
          },
          "metadata": {
            "tags": [],
            "needs_background": "light"
          }
        }
      ]
    },
    {
      "cell_type": "code",
      "metadata": {
        "colab": {
          "base_uri": "https://localhost:8080/"
        },
        "id": "v2JZQuD-D3EH",
        "outputId": "1e16b5a4-d92e-494b-d725-640d69d834a3"
      },
      "source": [
        "#take categorical valued column for one hot encoding\n",
        "from sklearn.preprocessing import OneHotEncoder\n",
        "\n",
        "oneHotEncoder=OneHotEncoder()\n",
        "encodedArray=oneHotEncoder.fit_transform(df[['model']]).toarray()\n",
        "encodedArray[200]"
      ],
      "execution_count": null,
      "outputs": [
        {
          "output_type": "execute_result",
          "data": {
            "text/plain": [
              "array([0., 0., 0., 0., 0., 0., 1.])"
            ]
          },
          "metadata": {
            "tags": []
          },
          "execution_count": 13
        }
      ]
    },
    {
      "cell_type": "code",
      "metadata": {
        "colab": {
          "base_uri": "https://localhost:8080/",
          "height": 419
        },
        "id": "nATQPGnxRk2X",
        "outputId": "dde99d32-f9dc-4077-d258-140eef1be48a"
      },
      "source": [
        " encodedDf= pd.DataFrame(encodedArray, columns=['apple','htc','huawei','nokia','oppo','samsung','sony'])\n",
        " encodedDf"
      ],
      "execution_count": null,
      "outputs": [
        {
          "output_type": "execute_result",
          "data": {
            "text/html": [
              "<div>\n",
              "<style scoped>\n",
              "    .dataframe tbody tr th:only-of-type {\n",
              "        vertical-align: middle;\n",
              "    }\n",
              "\n",
              "    .dataframe tbody tr th {\n",
              "        vertical-align: top;\n",
              "    }\n",
              "\n",
              "    .dataframe thead th {\n",
              "        text-align: right;\n",
              "    }\n",
              "</style>\n",
              "<table border=\"1\" class=\"dataframe\">\n",
              "  <thead>\n",
              "    <tr style=\"text-align: right;\">\n",
              "      <th></th>\n",
              "      <th>apple</th>\n",
              "      <th>htc</th>\n",
              "      <th>huawei</th>\n",
              "      <th>nokia</th>\n",
              "      <th>oppo</th>\n",
              "      <th>samsung</th>\n",
              "      <th>sony</th>\n",
              "    </tr>\n",
              "  </thead>\n",
              "  <tbody>\n",
              "    <tr>\n",
              "      <th>0</th>\n",
              "      <td>0.0</td>\n",
              "      <td>0.0</td>\n",
              "      <td>0.0</td>\n",
              "      <td>0.0</td>\n",
              "      <td>0.0</td>\n",
              "      <td>1.0</td>\n",
              "      <td>0.0</td>\n",
              "    </tr>\n",
              "    <tr>\n",
              "      <th>1</th>\n",
              "      <td>0.0</td>\n",
              "      <td>0.0</td>\n",
              "      <td>0.0</td>\n",
              "      <td>0.0</td>\n",
              "      <td>0.0</td>\n",
              "      <td>1.0</td>\n",
              "      <td>0.0</td>\n",
              "    </tr>\n",
              "    <tr>\n",
              "      <th>2</th>\n",
              "      <td>0.0</td>\n",
              "      <td>0.0</td>\n",
              "      <td>0.0</td>\n",
              "      <td>0.0</td>\n",
              "      <td>0.0</td>\n",
              "      <td>1.0</td>\n",
              "      <td>0.0</td>\n",
              "    </tr>\n",
              "    <tr>\n",
              "      <th>3</th>\n",
              "      <td>0.0</td>\n",
              "      <td>0.0</td>\n",
              "      <td>0.0</td>\n",
              "      <td>0.0</td>\n",
              "      <td>0.0</td>\n",
              "      <td>1.0</td>\n",
              "      <td>0.0</td>\n",
              "    </tr>\n",
              "    <tr>\n",
              "      <th>4</th>\n",
              "      <td>0.0</td>\n",
              "      <td>0.0</td>\n",
              "      <td>0.0</td>\n",
              "      <td>0.0</td>\n",
              "      <td>0.0</td>\n",
              "      <td>1.0</td>\n",
              "      <td>0.0</td>\n",
              "    </tr>\n",
              "    <tr>\n",
              "      <th>...</th>\n",
              "      <td>...</td>\n",
              "      <td>...</td>\n",
              "      <td>...</td>\n",
              "      <td>...</td>\n",
              "      <td>...</td>\n",
              "      <td>...</td>\n",
              "      <td>...</td>\n",
              "    </tr>\n",
              "    <tr>\n",
              "      <th>202</th>\n",
              "      <td>0.0</td>\n",
              "      <td>0.0</td>\n",
              "      <td>0.0</td>\n",
              "      <td>0.0</td>\n",
              "      <td>0.0</td>\n",
              "      <td>0.0</td>\n",
              "      <td>1.0</td>\n",
              "    </tr>\n",
              "    <tr>\n",
              "      <th>203</th>\n",
              "      <td>0.0</td>\n",
              "      <td>0.0</td>\n",
              "      <td>0.0</td>\n",
              "      <td>0.0</td>\n",
              "      <td>0.0</td>\n",
              "      <td>0.0</td>\n",
              "      <td>1.0</td>\n",
              "    </tr>\n",
              "    <tr>\n",
              "      <th>204</th>\n",
              "      <td>0.0</td>\n",
              "      <td>0.0</td>\n",
              "      <td>0.0</td>\n",
              "      <td>0.0</td>\n",
              "      <td>0.0</td>\n",
              "      <td>0.0</td>\n",
              "      <td>1.0</td>\n",
              "    </tr>\n",
              "    <tr>\n",
              "      <th>205</th>\n",
              "      <td>0.0</td>\n",
              "      <td>0.0</td>\n",
              "      <td>0.0</td>\n",
              "      <td>0.0</td>\n",
              "      <td>0.0</td>\n",
              "      <td>0.0</td>\n",
              "      <td>1.0</td>\n",
              "    </tr>\n",
              "    <tr>\n",
              "      <th>206</th>\n",
              "      <td>0.0</td>\n",
              "      <td>0.0</td>\n",
              "      <td>0.0</td>\n",
              "      <td>0.0</td>\n",
              "      <td>0.0</td>\n",
              "      <td>0.0</td>\n",
              "      <td>1.0</td>\n",
              "    </tr>\n",
              "  </tbody>\n",
              "</table>\n",
              "<p>207 rows × 7 columns</p>\n",
              "</div>"
            ],
            "text/plain": [
              "     apple  htc  huawei  nokia  oppo  samsung  sony\n",
              "0      0.0  0.0     0.0    0.0   0.0      1.0   0.0\n",
              "1      0.0  0.0     0.0    0.0   0.0      1.0   0.0\n",
              "2      0.0  0.0     0.0    0.0   0.0      1.0   0.0\n",
              "3      0.0  0.0     0.0    0.0   0.0      1.0   0.0\n",
              "4      0.0  0.0     0.0    0.0   0.0      1.0   0.0\n",
              "..     ...  ...     ...    ...   ...      ...   ...\n",
              "202    0.0  0.0     0.0    0.0   0.0      0.0   1.0\n",
              "203    0.0  0.0     0.0    0.0   0.0      0.0   1.0\n",
              "204    0.0  0.0     0.0    0.0   0.0      0.0   1.0\n",
              "205    0.0  0.0     0.0    0.0   0.0      0.0   1.0\n",
              "206    0.0  0.0     0.0    0.0   0.0      0.0   1.0\n",
              "\n",
              "[207 rows x 7 columns]"
            ]
          },
          "metadata": {
            "tags": []
          },
          "execution_count": 14
        }
      ]
    },
    {
      "cell_type": "code",
      "metadata": {
        "id": "PaSJgVriTwGC"
      },
      "source": [
        "df = df.drop(columns=['model'])"
      ],
      "execution_count": null,
      "outputs": []
    },
    {
      "cell_type": "code",
      "metadata": {
        "colab": {
          "base_uri": "https://localhost:8080/",
          "height": 224
        },
        "id": "_2-2t6FPT8Wy",
        "outputId": "673df02b-5aa7-4d7e-f95e-8dd5faa0b60b"
      },
      "source": [
        "df = pd.concat([df.reset_index(drop=True),encodedDf.reset_index(drop=True)], axis=1)\n",
        "df.head(5)"
      ],
      "execution_count": null,
      "outputs": [
        {
          "output_type": "execute_result",
          "data": {
            "text/html": [
              "<div>\n",
              "<style scoped>\n",
              "    .dataframe tbody tr th:only-of-type {\n",
              "        vertical-align: middle;\n",
              "    }\n",
              "\n",
              "    .dataframe tbody tr th {\n",
              "        vertical-align: top;\n",
              "    }\n",
              "\n",
              "    .dataframe thead th {\n",
              "        text-align: right;\n",
              "    }\n",
              "</style>\n",
              "<table border=\"1\" class=\"dataframe\">\n",
              "  <thead>\n",
              "    <tr style=\"text-align: right;\">\n",
              "      <th></th>\n",
              "      <th>ram(GB)</th>\n",
              "      <th>frontCamera(MP)</th>\n",
              "      <th>backCamera(MP)</th>\n",
              "      <th>noOfCam(Front)</th>\n",
              "      <th>noOfCam(Back)</th>\n",
              "      <th>batteryCapacity(mAh)</th>\n",
              "      <th>storage(GB)</th>\n",
              "      <th>displaySize</th>\n",
              "      <th>year</th>\n",
              "      <th>osVersion</th>\n",
              "      <th>price(Rs.)</th>\n",
              "      <th>apple</th>\n",
              "      <th>htc</th>\n",
              "      <th>huawei</th>\n",
              "      <th>nokia</th>\n",
              "      <th>oppo</th>\n",
              "      <th>samsung</th>\n",
              "      <th>sony</th>\n",
              "    </tr>\n",
              "  </thead>\n",
              "  <tbody>\n",
              "    <tr>\n",
              "      <th>0</th>\n",
              "      <td>4</td>\n",
              "      <td>5.0</td>\n",
              "      <td>12.0</td>\n",
              "      <td>1</td>\n",
              "      <td>1</td>\n",
              "      <td>3600</td>\n",
              "      <td>32</td>\n",
              "      <td>5.5</td>\n",
              "      <td>2016</td>\n",
              "      <td>6.0</td>\n",
              "      <td>39900</td>\n",
              "      <td>0.0</td>\n",
              "      <td>0.0</td>\n",
              "      <td>0.0</td>\n",
              "      <td>0.0</td>\n",
              "      <td>0.0</td>\n",
              "      <td>1.0</td>\n",
              "      <td>0.0</td>\n",
              "    </tr>\n",
              "    <tr>\n",
              "      <th>1</th>\n",
              "      <td>4</td>\n",
              "      <td>5.0</td>\n",
              "      <td>12.0</td>\n",
              "      <td>1</td>\n",
              "      <td>1</td>\n",
              "      <td>3000</td>\n",
              "      <td>32</td>\n",
              "      <td>5.1</td>\n",
              "      <td>2016</td>\n",
              "      <td>6.0</td>\n",
              "      <td>36900</td>\n",
              "      <td>0.0</td>\n",
              "      <td>0.0</td>\n",
              "      <td>0.0</td>\n",
              "      <td>0.0</td>\n",
              "      <td>0.0</td>\n",
              "      <td>1.0</td>\n",
              "      <td>0.0</td>\n",
              "    </tr>\n",
              "    <tr>\n",
              "      <th>2</th>\n",
              "      <td>4</td>\n",
              "      <td>8.0</td>\n",
              "      <td>12.0</td>\n",
              "      <td>1</td>\n",
              "      <td>2</td>\n",
              "      <td>3500</td>\n",
              "      <td>64</td>\n",
              "      <td>6.2</td>\n",
              "      <td>2017</td>\n",
              "      <td>7.0</td>\n",
              "      <td>74900</td>\n",
              "      <td>0.0</td>\n",
              "      <td>0.0</td>\n",
              "      <td>0.0</td>\n",
              "      <td>0.0</td>\n",
              "      <td>0.0</td>\n",
              "      <td>1.0</td>\n",
              "      <td>0.0</td>\n",
              "    </tr>\n",
              "    <tr>\n",
              "      <th>3</th>\n",
              "      <td>4</td>\n",
              "      <td>5.0</td>\n",
              "      <td>12.0</td>\n",
              "      <td>1</td>\n",
              "      <td>2</td>\n",
              "      <td>3000</td>\n",
              "      <td>32</td>\n",
              "      <td>5.8</td>\n",
              "      <td>2017</td>\n",
              "      <td>7.0</td>\n",
              "      <td>66500</td>\n",
              "      <td>0.0</td>\n",
              "      <td>0.0</td>\n",
              "      <td>0.0</td>\n",
              "      <td>0.0</td>\n",
              "      <td>0.0</td>\n",
              "      <td>1.0</td>\n",
              "      <td>0.0</td>\n",
              "    </tr>\n",
              "    <tr>\n",
              "      <th>4</th>\n",
              "      <td>4</td>\n",
              "      <td>5.0</td>\n",
              "      <td>12.0</td>\n",
              "      <td>1</td>\n",
              "      <td>2</td>\n",
              "      <td>4000</td>\n",
              "      <td>32</td>\n",
              "      <td>5.8</td>\n",
              "      <td>2017</td>\n",
              "      <td>7.0</td>\n",
              "      <td>148570</td>\n",
              "      <td>0.0</td>\n",
              "      <td>0.0</td>\n",
              "      <td>0.0</td>\n",
              "      <td>0.0</td>\n",
              "      <td>0.0</td>\n",
              "      <td>1.0</td>\n",
              "      <td>0.0</td>\n",
              "    </tr>\n",
              "  </tbody>\n",
              "</table>\n",
              "</div>"
            ],
            "text/plain": [
              "   ram(GB)  frontCamera(MP)  backCamera(MP)  ...  oppo  samsung  sony\n",
              "0        4              5.0            12.0  ...   0.0      1.0   0.0\n",
              "1        4              5.0            12.0  ...   0.0      1.0   0.0\n",
              "2        4              8.0            12.0  ...   0.0      1.0   0.0\n",
              "3        4              5.0            12.0  ...   0.0      1.0   0.0\n",
              "4        4              5.0            12.0  ...   0.0      1.0   0.0\n",
              "\n",
              "[5 rows x 18 columns]"
            ]
          },
          "metadata": {
            "tags": []
          },
          "execution_count": 16
        }
      ]
    },
    {
      "cell_type": "code",
      "metadata": {
        "colab": {
          "base_uri": "https://localhost:8080/"
        },
        "id": "uNd2wJuNWUVX",
        "outputId": "2e91a32f-569b-4072-bf8b-ee56b80b21cb"
      },
      "source": [
        "corr_matrix = df.corr() #see the corelation between other variable and price\n",
        "corr_matrix[\"price(Rs.)\"].sort_values(ascending=False)"
      ],
      "execution_count": null,
      "outputs": [
        {
          "output_type": "execute_result",
          "data": {
            "text/plain": [
              "price(Rs.)              1.000000\n",
              "storage(GB)             0.762996\n",
              "osVersion               0.563350\n",
              "ram(GB)                 0.534497\n",
              "apple                   0.483073\n",
              "noOfCam(Front)          0.347002\n",
              "noOfCam(Back)           0.311246\n",
              "displaySize             0.232013\n",
              "samsung                 0.215233\n",
              "year                    0.173578\n",
              "frontCamera(MP)         0.071600\n",
              "backCamera(MP)          0.071481\n",
              "batteryCapacity(mAh)    0.038287\n",
              "sony                    0.006610\n",
              "htc                    -0.057495\n",
              "oppo                   -0.181983\n",
              "nokia                  -0.238823\n",
              "huawei                 -0.247037\n",
              "Name: price(Rs.), dtype: float64"
            ]
          },
          "metadata": {
            "tags": []
          },
          "execution_count": 17
        }
      ]
    },
    {
      "cell_type": "code",
      "metadata": {
        "colab": {
          "base_uri": "https://localhost:8080/"
        },
        "id": "KtIKgohdXCi1",
        "outputId": "c2239aef-0fac-46a8-d92f-23c9bd53e40e"
      },
      "source": [
        "#convert all data types to float for minmax scaler\n",
        "df=df.astype(float)\n",
        "df.dtypes\n"
      ],
      "execution_count": null,
      "outputs": [
        {
          "output_type": "execute_result",
          "data": {
            "text/plain": [
              "ram(GB)                 float64\n",
              "frontCamera(MP)         float64\n",
              "backCamera(MP)          float64\n",
              "noOfCam(Front)          float64\n",
              "noOfCam(Back)           float64\n",
              "batteryCapacity(mAh)    float64\n",
              "storage(GB)             float64\n",
              "displaySize             float64\n",
              "year                    float64\n",
              "osVersion               float64\n",
              "price(Rs.)              float64\n",
              "apple                   float64\n",
              "htc                     float64\n",
              "huawei                  float64\n",
              "nokia                   float64\n",
              "oppo                    float64\n",
              "samsung                 float64\n",
              "sony                    float64\n",
              "dtype: object"
            ]
          },
          "metadata": {
            "tags": []
          },
          "execution_count": 18
        }
      ]
    },
    {
      "cell_type": "code",
      "metadata": {
        "id": "luBi8eOFXWrr"
      },
      "source": [
        "subX=df.drop(['price(Rs.)'],axis=1) #set the variable for X,y\n",
        "y=df[['price(Rs.)']]"
      ],
      "execution_count": null,
      "outputs": []
    },
    {
      "cell_type": "code",
      "metadata": {
        "colab": {
          "base_uri": "https://localhost:8080/",
          "height": 224
        },
        "id": "XTUxdBvAfzgc",
        "outputId": "a0ef7de3-d37d-4c85-b509-9056b8041589"
      },
      "source": [
        "from sklearn.preprocessing import MinMaxScaler\n",
        "scaler = MinMaxScaler()\n",
        "tempX = scaler.fit_transform(subX)\n",
        "X = pd.DataFrame(tempX, columns=subX.columns)\n",
        "X.head(5)"
      ],
      "execution_count": null,
      "outputs": [
        {
          "output_type": "execute_result",
          "data": {
            "text/html": [
              "<div>\n",
              "<style scoped>\n",
              "    .dataframe tbody tr th:only-of-type {\n",
              "        vertical-align: middle;\n",
              "    }\n",
              "\n",
              "    .dataframe tbody tr th {\n",
              "        vertical-align: top;\n",
              "    }\n",
              "\n",
              "    .dataframe thead th {\n",
              "        text-align: right;\n",
              "    }\n",
              "</style>\n",
              "<table border=\"1\" class=\"dataframe\">\n",
              "  <thead>\n",
              "    <tr style=\"text-align: right;\">\n",
              "      <th></th>\n",
              "      <th>ram(GB)</th>\n",
              "      <th>frontCamera(MP)</th>\n",
              "      <th>backCamera(MP)</th>\n",
              "      <th>noOfCam(Front)</th>\n",
              "      <th>noOfCam(Back)</th>\n",
              "      <th>batteryCapacity(mAh)</th>\n",
              "      <th>storage(GB)</th>\n",
              "      <th>displaySize</th>\n",
              "      <th>year</th>\n",
              "      <th>osVersion</th>\n",
              "      <th>apple</th>\n",
              "      <th>htc</th>\n",
              "      <th>huawei</th>\n",
              "      <th>nokia</th>\n",
              "      <th>oppo</th>\n",
              "      <th>samsung</th>\n",
              "      <th>sony</th>\n",
              "    </tr>\n",
              "  </thead>\n",
              "  <tbody>\n",
              "    <tr>\n",
              "      <th>0</th>\n",
              "      <td>0.272727</td>\n",
              "      <td>0.071429</td>\n",
              "      <td>0.067961</td>\n",
              "      <td>0.0</td>\n",
              "      <td>0.000000</td>\n",
              "      <td>0.428571</td>\n",
              "      <td>0.055118</td>\n",
              "      <td>0.324324</td>\n",
              "      <td>0.333333</td>\n",
              "      <td>0.222222</td>\n",
              "      <td>0.0</td>\n",
              "      <td>0.0</td>\n",
              "      <td>0.0</td>\n",
              "      <td>0.0</td>\n",
              "      <td>0.0</td>\n",
              "      <td>1.0</td>\n",
              "      <td>0.0</td>\n",
              "    </tr>\n",
              "    <tr>\n",
              "      <th>1</th>\n",
              "      <td>0.272727</td>\n",
              "      <td>0.071429</td>\n",
              "      <td>0.067961</td>\n",
              "      <td>0.0</td>\n",
              "      <td>0.000000</td>\n",
              "      <td>0.285714</td>\n",
              "      <td>0.055118</td>\n",
              "      <td>0.216216</td>\n",
              "      <td>0.333333</td>\n",
              "      <td>0.222222</td>\n",
              "      <td>0.0</td>\n",
              "      <td>0.0</td>\n",
              "      <td>0.0</td>\n",
              "      <td>0.0</td>\n",
              "      <td>0.0</td>\n",
              "      <td>1.0</td>\n",
              "      <td>0.0</td>\n",
              "    </tr>\n",
              "    <tr>\n",
              "      <th>2</th>\n",
              "      <td>0.272727</td>\n",
              "      <td>0.142857</td>\n",
              "      <td>0.067961</td>\n",
              "      <td>0.0</td>\n",
              "      <td>0.333333</td>\n",
              "      <td>0.404762</td>\n",
              "      <td>0.118110</td>\n",
              "      <td>0.513514</td>\n",
              "      <td>0.500000</td>\n",
              "      <td>0.333333</td>\n",
              "      <td>0.0</td>\n",
              "      <td>0.0</td>\n",
              "      <td>0.0</td>\n",
              "      <td>0.0</td>\n",
              "      <td>0.0</td>\n",
              "      <td>1.0</td>\n",
              "      <td>0.0</td>\n",
              "    </tr>\n",
              "    <tr>\n",
              "      <th>3</th>\n",
              "      <td>0.272727</td>\n",
              "      <td>0.071429</td>\n",
              "      <td>0.067961</td>\n",
              "      <td>0.0</td>\n",
              "      <td>0.333333</td>\n",
              "      <td>0.285714</td>\n",
              "      <td>0.055118</td>\n",
              "      <td>0.405405</td>\n",
              "      <td>0.500000</td>\n",
              "      <td>0.333333</td>\n",
              "      <td>0.0</td>\n",
              "      <td>0.0</td>\n",
              "      <td>0.0</td>\n",
              "      <td>0.0</td>\n",
              "      <td>0.0</td>\n",
              "      <td>1.0</td>\n",
              "      <td>0.0</td>\n",
              "    </tr>\n",
              "    <tr>\n",
              "      <th>4</th>\n",
              "      <td>0.272727</td>\n",
              "      <td>0.071429</td>\n",
              "      <td>0.067961</td>\n",
              "      <td>0.0</td>\n",
              "      <td>0.333333</td>\n",
              "      <td>0.523810</td>\n",
              "      <td>0.055118</td>\n",
              "      <td>0.405405</td>\n",
              "      <td>0.500000</td>\n",
              "      <td>0.333333</td>\n",
              "      <td>0.0</td>\n",
              "      <td>0.0</td>\n",
              "      <td>0.0</td>\n",
              "      <td>0.0</td>\n",
              "      <td>0.0</td>\n",
              "      <td>1.0</td>\n",
              "      <td>0.0</td>\n",
              "    </tr>\n",
              "  </tbody>\n",
              "</table>\n",
              "</div>"
            ],
            "text/plain": [
              "    ram(GB)  frontCamera(MP)  backCamera(MP)  ...  oppo  samsung  sony\n",
              "0  0.272727         0.071429        0.067961  ...   0.0      1.0   0.0\n",
              "1  0.272727         0.071429        0.067961  ...   0.0      1.0   0.0\n",
              "2  0.272727         0.142857        0.067961  ...   0.0      1.0   0.0\n",
              "3  0.272727         0.071429        0.067961  ...   0.0      1.0   0.0\n",
              "4  0.272727         0.071429        0.067961  ...   0.0      1.0   0.0\n",
              "\n",
              "[5 rows x 17 columns]"
            ]
          },
          "metadata": {
            "tags": []
          },
          "execution_count": 20
        }
      ]
    },
    {
      "cell_type": "code",
      "metadata": {
        "id": "pp2hVMdUjy2m"
      },
      "source": [
        "from sklearn.linear_model import LinearRegression\n",
        "from sklearn.model_selection import train_test_split\n",
        "X_train, X_test, y_train, y_test = sklearn.model_selection.train_test_split(X, y, test_size = 0.15, random_state = 0)"
      ],
      "execution_count": null,
      "outputs": []
    },
    {
      "cell_type": "code",
      "metadata": {
        "colab": {
          "base_uri": "https://localhost:8080/"
        },
        "id": "bog7CCMgkSa0",
        "outputId": "8a373aed-6539-4ced-d9a6-608123a1fa20"
      },
      "source": [
        "lr = LinearRegression()\n",
        "lr.fit(X_train, y_train)\n",
        "score = lr.score(X_test, y_test) # acc stands for accuracy \n",
        "print(\"accuracy = \",score)"
      ],
      "execution_count": null,
      "outputs": [
        {
          "output_type": "stream",
          "text": [
            "accuracy =  0.8000572182934955\n"
          ],
          "name": "stdout"
        }
      ]
    },
    {
      "cell_type": "code",
      "metadata": {
        "id": "KlJZd2FXmOlx"
      },
      "source": [
        "y_predict_lr=lr.predict(X_test)"
      ],
      "execution_count": null,
      "outputs": []
    },
    {
      "cell_type": "code",
      "metadata": {
        "colab": {
          "base_uri": "https://localhost:8080/",
          "height": 381
        },
        "id": "sr3TkrafmaZ0",
        "outputId": "da4fb32f-617f-4dfc-9695-9c8c199cbef7"
      },
      "source": [
        "sns.distplot(y_test,hist=False,color=\"r\",label=\"Actualvalue\")\n",
        "sns.distplot(y_predict_lr,hist=False,color=\"b\",label=\"predictvalue\")\n",
        "plt.show"
      ],
      "execution_count": null,
      "outputs": [
        {
          "output_type": "stream",
          "text": [
            "/usr/local/lib/python3.7/dist-packages/seaborn/distributions.py:2557: FutureWarning: `distplot` is a deprecated function and will be removed in a future version. Please adapt your code to use either `displot` (a figure-level function with similar flexibility) or `kdeplot` (an axes-level function for kernel density plots).\n",
            "  warnings.warn(msg, FutureWarning)\n",
            "/usr/local/lib/python3.7/dist-packages/seaborn/distributions.py:2557: FutureWarning: `distplot` is a deprecated function and will be removed in a future version. Please adapt your code to use either `displot` (a figure-level function with similar flexibility) or `kdeplot` (an axes-level function for kernel density plots).\n",
            "  warnings.warn(msg, FutureWarning)\n"
          ],
          "name": "stderr"
        },
        {
          "output_type": "execute_result",
          "data": {
            "text/plain": [
              "<function matplotlib.pyplot.show>"
            ]
          },
          "metadata": {
            "tags": []
          },
          "execution_count": 31
        },
        {
          "output_type": "display_data",
          "data": {
            "image/png": "[encoded data removed]",
            "text/plain": [
              "<Figure size 432x288 with 1 Axes>"
            ]
          },
          "metadata": {
            "tags": [],
            "needs_background": "light"
          }
        }
      ]
    },
    {
      "cell_type": "code",
      "metadata": {
        "colab": {
          "base_uri": "https://localhost:8080/"
        },
        "id": "0HRCeKZjovdm",
        "outputId": "3b08c5b8-df02-4427-8695-078ad4f8e5cb"
      },
      "source": [
        "\n",
        "print (\"\\n****after linear regression model****\")\n",
        "print (\"MAError  :\",metrics.mean_absolute_error(y_test,y_predict_lr))\n",
        "print (\"MSError  :\",metrics.mean_squared_error(y_test,y_predict_lr))\n",
        "print (\"RMSError :\",np.sqrt(metrics.mean_absolute_error(y_test,y_predict_lr)))"
      ],
      "execution_count": null,
      "outputs": [
        {
          "output_type": "stream",
          "text": [
            "\n",
            "****after linear regression model****\n",
            "MAError  : 21578.477531079472\n",
            "MSError  : 971207900.5037465\n",
            "RMSError : 146.89614539217655\n"
          ],
          "name": "stdout"
        }
      ]
    },
    {
      "cell_type": "code",
      "metadata": {
        "colab": {
          "base_uri": "https://localhost:8080/"
        },
        "id": "4X3Il56NUZTf",
        "outputId": "1207148b-dd9f-4ed9-b2b8-575a088ad0ae"
      },
      "source": [
        "#import random forest regresser\n",
        "from sklearn.ensemble import RandomForestRegressor\n",
        "\n",
        "rFReg=RandomForestRegressor(n_estimators=400,random_state=100)\n",
        "\n",
        "rFReg.fit(X_train,y_train)"
      ],
      "execution_count": null,
      "outputs": [
        {
          "output_type": "stream",
          "text": [
            "/usr/local/lib/python3.7/dist-packages/ipykernel_launcher.py:6: DataConversionWarning: A column-vector y was passed when a 1d array was expected. Please change the shape of y to (n_samples,), for example using ravel().\n",
            "  \n"
          ],
          "name": "stderr"
        },
        {
          "output_type": "execute_result",
          "data": {
            "text/plain": [
              "RandomForestRegressor(bootstrap=True, ccp_alpha=0.0, criterion='mse',\n",
              "                      max_depth=None, max_features='auto', max_leaf_nodes=None,\n",
              "                      max_samples=None, min_impurity_decrease=0.0,\n",
              "                      min_impurity_split=None, min_samples_leaf=1,\n",
              "                      min_samples_split=2, min_weight_fraction_leaf=0.0,\n",
              "                      n_estimators=400, n_jobs=None, oob_score=False,\n",
              "                      random_state=100, verbose=0, warm_start=False)"
            ]
          },
          "metadata": {
            "tags": []
          },
          "execution_count": 26
        }
      ]
    },
    {
      "cell_type": "code",
      "metadata": {
        "colab": {
          "base_uri": "https://localhost:8080/"
        },
        "id": "zfN-4SeSYXMW",
        "outputId": "d2f60f2c-8b27-4c3d-9c23-f44e6869bfff"
      },
      "source": [
        "y_predict_rfr=rFReg.predict((X_test))\n",
        "\n",
        "r_square_rfr=metrics.r2_score(y_test,y_predict_rfr)\n",
        "r_square_rfr"
      ],
      "execution_count": null,
      "outputs": [
        {
          "output_type": "execute_result",
          "data": {
            "text/plain": [
              "0.6925462546773153"
            ]
          },
          "metadata": {
            "tags": []
          },
          "execution_count": 48
        }
      ]
    },
    {
      "cell_type": "code",
      "metadata": {
        "colab": {
          "base_uri": "https://localhost:8080/",
          "height": 381
        },
        "id": "vR55StXsPVJ-",
        "outputId": "6c4370f8-6447-4fa7-d227-22e7a3fc6507"
      },
      "source": [
        "sns.distplot(y_test,hist=False,color=\"b\",label=\"fitted\")\n",
        "sns.distplot(y_predict_rfr,hist=False,color=\"r\",label=\"predictvalue\")\n",
        "plt.show\n"
      ],
      "execution_count": null,
      "outputs": [
        {
          "output_type": "stream",
          "text": [
            "/usr/local/lib/python3.7/dist-packages/seaborn/distributions.py:2557: FutureWarning: `distplot` is a deprecated function and will be removed in a future version. Please adapt your code to use either `displot` (a figure-level function with similar flexibility) or `kdeplot` (an axes-level function for kernel density plots).\n",
            "  warnings.warn(msg, FutureWarning)\n",
            "/usr/local/lib/python3.7/dist-packages/seaborn/distributions.py:2557: FutureWarning: `distplot` is a deprecated function and will be removed in a future version. Please adapt your code to use either `displot` (a figure-level function with similar flexibility) or `kdeplot` (an axes-level function for kernel density plots).\n",
            "  warnings.warn(msg, FutureWarning)\n"
          ],
          "name": "stderr"
        },
        {
          "output_type": "execute_result",
          "data": {
            "text/plain": [
              "<function matplotlib.pyplot.show>"
            ]
          },
          "metadata": {
            "tags": []
          },
          "execution_count": 33
        },
        {
          "output_type": "display_data",
          "data": {
            "image/png": "[encoded data removed]",
            "text/plain": [
              "<Figure size 432x288 with 1 Axes>"
            ]
          },
          "metadata": {
            "tags": [],
            "needs_background": "light"
          }
        }
      ]
    },
    {
      "cell_type": "code",
      "metadata": {
        "colab": {
          "base_uri": "https://localhost:8080/"
        },
        "id": "IOv5pJTGSRWw",
        "outputId": "e2de7465-b7ad-446a-a675-197cdf576532"
      },
      "source": [
        "print (\"\\n****after Random Forest Model****\")\n",
        "print (\"MAError  :\",metrics.mean_absolute_error(y_test,y_predict_rfr))\n",
        "print (\"MSError  :\",metrics.mean_squared_error(y_test,y_predict_rfr))\n",
        "print (\"RMSError :\",np.sqrt(metrics.mean_absolute_error(y_test,y_predict_rfr)))"
      ],
      "execution_count": null,
      "outputs": [
        {
          "output_type": "stream",
          "text": [
            "\n",
            "****after Random Forest Model****\n",
            "MAError  : 22595.00560763889\n",
            "MSError  : 1493434791.4353547\n",
            "RMSError : 150.316351764001\n"
          ],
          "name": "stdout"
        }
      ]
    },
    {
      "cell_type": "code",
      "metadata": {
        "colab": {
          "base_uri": "https://localhost:8080/"
        },
        "id": "Lc-gGHttSpHk",
        "outputId": "a0ca8a4a-fac8-4daa-9514-e8c389bd9068"
      },
      "source": [
        "#import decission tree regresser\n",
        "from sklearn.tree import DecisionTreeRegressor\n",
        "\n",
        "dTReg=DecisionTreeRegressor(random_state=0)\n",
        "\n",
        "dTReg.fit(X_train,y_train)"
      ],
      "execution_count": null,
      "outputs": [
        {
          "output_type": "execute_result",
          "data": {
            "text/plain": [
              "DecisionTreeRegressor(ccp_alpha=0.0, criterion='mse', max_depth=None,\n",
              "                      max_features=None, max_leaf_nodes=None,\n",
              "                      min_impurity_decrease=0.0, min_impurity_split=None,\n",
              "                      min_samples_leaf=1, min_samples_split=2,\n",
              "                      min_weight_fraction_leaf=0.0, presort='deprecated',\n",
              "                      random_state=0, splitter='best')"
            ]
          },
          "metadata": {
            "tags": []
          },
          "execution_count": 44
        }
      ]
    },
    {
      "cell_type": "code",
      "metadata": {
        "colab": {
          "base_uri": "https://localhost:8080/"
        },
        "id": "CHD_AWblUpSt",
        "outputId": "5623571f-2da3-417c-b2f2-61f404ead205"
      },
      "source": [
        "y_predict_dtr=dTReg.predict((X_test))\n",
        "\n",
        "r_square_dtr=metrics.r2_score(y_test,y_predict_dtr)\n",
        "r_square_dtr"
      ],
      "execution_count": null,
      "outputs": [
        {
          "output_type": "execute_result",
          "data": {
            "text/plain": [
              "0.46835448867129226"
            ]
          },
          "metadata": {
            "tags": []
          },
          "execution_count": 47
        }
      ]
    },
    {
      "cell_type": "code",
      "metadata": {
        "colab": {
          "base_uri": "https://localhost:8080/",
          "height": 381
        },
        "id": "yPejZYr5WE50",
        "outputId": "4d2a10eb-0833-4475-914c-ff1409ef4ee4"
      },
      "source": [
        "sns.distplot(y_test,hist=False,color=\"b\",label=\"fitted\")\n",
        "sns.distplot(y_predict_dtr,hist=False,color=\"r\",label=\"predictvalue\")\n",
        "plt.show"
      ],
      "execution_count": null,
      "outputs": [
        {
          "output_type": "stream",
          "text": [
            "/usr/local/lib/python3.7/dist-packages/seaborn/distributions.py:2557: FutureWarning: `distplot` is a deprecated function and will be removed in a future version. Please adapt your code to use either `displot` (a figure-level function with similar flexibility) or `kdeplot` (an axes-level function for kernel density plots).\n",
            "  warnings.warn(msg, FutureWarning)\n",
            "/usr/local/lib/python3.7/dist-packages/seaborn/distributions.py:2557: FutureWarning: `distplot` is a deprecated function and will be removed in a future version. Please adapt your code to use either `displot` (a figure-level function with similar flexibility) or `kdeplot` (an axes-level function for kernel density plots).\n",
            "  warnings.warn(msg, FutureWarning)\n"
          ],
          "name": "stderr"
        },
        {
          "output_type": "execute_result",
          "data": {
            "text/plain": [
              "<function matplotlib.pyplot.show>"
            ]
          },
          "metadata": {
            "tags": []
          },
          "execution_count": 46
        },
        {
          "output_type": "display_data",
          "data": {
            "image/png": "[encoded data removed]",
            "text/plain": [
              "<Figure size 432x288 with 1 Axes>"
            ]
          },
          "metadata": {
            "tags": [],
            "needs_background": "light"
          }
        }
      ]
    },
    {
      "cell_type": "code",
      "metadata": {
        "colab": {
          "base_uri": "https://localhost:8080/"
        },
        "id": "mEiJVh96Wlk9",
        "outputId": "b3b2289a-3909-4c92-83e3-6ddf1e16c311"
      },
      "source": [
        "print (\"\\n****after Decision Tree Model****\")\n",
        "print (\"MAError  :\",metrics.mean_absolute_error(y_test,y_predict_dtr))\n",
        "print (\"MSError  :\",metrics.mean_squared_error(y_test,y_predict_dtr))\n",
        "print (\"RMSError :\",np.sqrt(metrics.mean_absolute_error(y_test,y_predict_dtr)))"
      ],
      "execution_count": null,
      "outputs": [
        {
          "output_type": "stream",
          "text": [
            "\n",
            "****after Decision Tree Model****\n",
            "MAError  : 30343.71875\n",
            "MSError  : 2582430415.65625\n",
            "RMSError : 174.19448541787997\n"
          ],
          "name": "stdout"
        }
      ]
    },
    {
      "cell_type": "code",
      "metadata": {
        "colab": {
          "base_uri": "https://localhost:8080/"
        },
        "id": "rvtPr2_vYuQj",
        "outputId": "702125f2-0397-4995-9290-6d4a1b951e2e"
      },
      "source": [
        "#import neural network\n",
        "from sklearn.neural_network import MLPRegressor\n",
        "\n",
        "nNReg=MLPRegressor(random_state=1,max_iter=500)\n",
        "\n",
        "nNReg.fit(X_train,y_train)"
      ],
      "execution_count": null,
      "outputs": [
        {
          "output_type": "stream",
          "text": [
            "/usr/local/lib/python3.7/dist-packages/sklearn/neural_network/_multilayer_perceptron.py:1342: DataConversionWarning: A column-vector y was passed when a 1d array was expected. Please change the shape of y to (n_samples, ), for example using ravel().\n",
            "  y = column_or_1d(y, warn=True)\n",
            "/usr/local/lib/python3.7/dist-packages/sklearn/neural_network/_multilayer_perceptron.py:571: ConvergenceWarning: Stochastic Optimizer: Maximum iterations (500) reached and the optimization hasn't converged yet.\n",
            "  % self.max_iter, ConvergenceWarning)\n"
          ],
          "name": "stderr"
        },
        {
          "output_type": "execute_result",
          "data": {
            "text/plain": [
              "MLPRegressor(activation='relu', alpha=0.0001, batch_size='auto', beta_1=0.9,\n",
              "             beta_2=0.999, early_stopping=False, epsilon=1e-08,\n",
              "             hidden_layer_sizes=(100,), learning_rate='constant',\n",
              "             learning_rate_init=0.001, max_fun=15000, max_iter=500,\n",
              "             momentum=0.9, n_iter_no_change=10, nesterovs_momentum=True,\n",
              "             power_t=0.5, random_state=1, shuffle=True, solver='adam',\n",
              "             tol=0.0001, validation_fraction=0.1, verbose=False,\n",
              "             warm_start=False)"
            ]
          },
          "metadata": {
            "tags": []
          },
          "execution_count": 50
        }
      ]
    },
    {
      "cell_type": "code",
      "metadata": {
        "colab": {
          "base_uri": "https://localhost:8080/"
        },
        "id": "MvkGprsyZs8j",
        "outputId": "658a9238-3eb7-4a9d-9c32-d04816240735"
      },
      "source": [
        "y_predict_nnr=nNReg.predict((X_test))\n",
        "score = nNReg.score(X_test, y_test)\n",
        "score"
      ],
      "execution_count": null,
      "outputs": [
        {
          "output_type": "execute_result",
          "data": {
            "text/plain": [
              "-1.2758023808993273"
            ]
          },
          "metadata": {
            "tags": []
          },
          "execution_count": 54
        }
      ]
    },
    {
      "cell_type": "code",
      "metadata": {
        "colab": {
          "base_uri": "https://localhost:8080/",
          "height": 370
        },
        "id": "QSxgEx-baqgd",
        "outputId": "7f41fbeb-77f3-495d-dc6e-a85565ac37bd"
      },
      "source": [
        "sns.distplot(y_test,hist=False,color=\"b\",label=\"fitted\")\n",
        "sns.distplot(y_predict_nnr,hist=False,color=\"r\",label=\"predictvalue\")\n",
        "plt.show"
      ],
      "execution_count": null,
      "outputs": [
        {
          "output_type": "stream",
          "text": [
            "/usr/local/lib/python3.7/dist-packages/seaborn/distributions.py:2557: FutureWarning: `distplot` is a deprecated function and will be removed in a future version. Please adapt your code to use either `displot` (a figure-level function with similar flexibility) or `kdeplot` (an axes-level function for kernel density plots).\n",
            "  warnings.warn(msg, FutureWarning)\n",
            "/usr/local/lib/python3.7/dist-packages/seaborn/distributions.py:2557: FutureWarning: `distplot` is a deprecated function and will be removed in a future version. Please adapt your code to use either `displot` (a figure-level function with similar flexibility) or `kdeplot` (an axes-level function for kernel density plots).\n",
            "  warnings.warn(msg, FutureWarning)\n"
          ],
          "name": "stderr"
        },
        {
          "output_type": "execute_result",
          "data": {
            "text/plain": [
              "<function matplotlib.pyplot.show>"
            ]
          },
          "metadata": {
            "tags": []
          },
          "execution_count": 55
        },
        {
          "output_type": "display_data",
          "data": {
            "image/png": "[encoded data removed]",
            "text/plain": [
              "<Figure size 432x288 with 1 Axes>"
            ]
          },
          "metadata": {
            "tags": [],
            "needs_background": "light"
          }
        }
      ]
    }
  ]
}